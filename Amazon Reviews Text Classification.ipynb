{
 "cells": [
  {
   "cell_type": "markdown",
   "id": "11a320cb",
   "metadata": {},
   "source": [
    "# Amazon Appliances Reviews Text Classifier"
   ]
  },
  {
   "cell_type": "markdown",
   "id": "065c26b5",
   "metadata": {},
   "source": [
    "### Introduction\n",
    "This project aims to construct a text classifier that will predict if a product review is positive or negative based on the text of that review. The outline is as follows:\n",
    "* Import JSON file and create a dataframe of the contents. \n",
    "* Preprocess the data.\n",
    "* Split the dataset into training and testing sets.\n",
    "* Intitialize the Tokenizer with parameters and padding. \n",
    "* Create sequential model featuring an Embedding layer, 2 bidirectional LSTM layers, a Dense layer and an output Dense layer.\n",
    "* Visualize the results by plotting the accuracy and loss.\n",
    "* Predict new reviews."
   ]
  },
  {
   "cell_type": "markdown",
   "id": "c98003bc",
   "metadata": {},
   "source": [
    "### The Dataset\n",
    "\n",
    "For this notebook, I will be using the Amazon Appliances Reviews dataset. This dataset is a smaller subset of the original [Amazon Review dataset](https://nijianmo.github.io/amazon/index.html). \n",
    "\n",
    "For more information, please view the following:  \n",
    "__Justifying recommendations using distantly-labeled reviews and fined-grained aspects__  \n",
    "Jianmo Ni, Jiacheng Li, Julian McAuley   \n",
    "_Empirical Methods in Natural Language Processing (EMNLP)_, 2019"
   ]
  },
  {
   "cell_type": "markdown",
   "id": "3712bed0",
   "metadata": {},
   "source": [
    "### Importing Required Packages"
   ]
  },
  {
   "cell_type": "code",
   "execution_count": 1,
   "id": "a756949d",
   "metadata": {},
   "outputs": [],
   "source": [
    "import pandas as pd\n",
    "import numpy as np\n",
    "import tensorflow as tf\n",
    "from tensorflow.keras.preprocessing.text import Tokenizer\n",
    "from tensorflow.keras.preprocessing.sequence import pad_sequences"
   ]
  },
  {
   "cell_type": "markdown",
   "id": "3c16a4d7",
   "metadata": {},
   "source": [
    "### Viewing and Preparing the Data"
   ]
  },
  {
   "cell_type": "code",
   "execution_count": 2,
   "id": "7459f2b6",
   "metadata": {},
   "outputs": [
    {
     "data": {
      "text/html": [
       "<div>\n",
       "<style scoped>\n",
       "    .dataframe tbody tr th:only-of-type {\n",
       "        vertical-align: middle;\n",
       "    }\n",
       "\n",
       "    .dataframe tbody tr th {\n",
       "        vertical-align: top;\n",
       "    }\n",
       "\n",
       "    .dataframe thead th {\n",
       "        text-align: right;\n",
       "    }\n",
       "</style>\n",
       "<table border=\"1\" class=\"dataframe\">\n",
       "  <thead>\n",
       "    <tr style=\"text-align: right;\">\n",
       "      <th></th>\n",
       "      <th>overall</th>\n",
       "      <th>vote</th>\n",
       "      <th>verified</th>\n",
       "      <th>reviewTime</th>\n",
       "      <th>reviewerID</th>\n",
       "      <th>asin</th>\n",
       "      <th>style</th>\n",
       "      <th>reviewerName</th>\n",
       "      <th>reviewText</th>\n",
       "      <th>summary</th>\n",
       "      <th>unixReviewTime</th>\n",
       "      <th>image</th>\n",
       "    </tr>\n",
       "  </thead>\n",
       "  <tbody>\n",
       "    <tr>\n",
       "      <th>0</th>\n",
       "      <td>5</td>\n",
       "      <td>2</td>\n",
       "      <td>False</td>\n",
       "      <td>11 27, 2013</td>\n",
       "      <td>A3NHUQ33CFH3VM</td>\n",
       "      <td>1118461304</td>\n",
       "      <td>{'Format:': ' Hardcover'}</td>\n",
       "      <td>Greeny</td>\n",
       "      <td>Not one thing in this book seemed an obvious o...</td>\n",
       "      <td>Clear on what leads to innovation</td>\n",
       "      <td>1385510400</td>\n",
       "      <td>NaN</td>\n",
       "    </tr>\n",
       "    <tr>\n",
       "      <th>1</th>\n",
       "      <td>5</td>\n",
       "      <td>NaN</td>\n",
       "      <td>False</td>\n",
       "      <td>11 1, 2013</td>\n",
       "      <td>A3SK6VNBQDNBJE</td>\n",
       "      <td>1118461304</td>\n",
       "      <td>{'Format:': ' Kindle Edition'}</td>\n",
       "      <td>Leif C. Ulstrup</td>\n",
       "      <td>I have enjoyed Dr. Alan Gregerman's weekly blo...</td>\n",
       "      <td>Becoming more innovative by opening yourself t...</td>\n",
       "      <td>1383264000</td>\n",
       "      <td>NaN</td>\n",
       "    </tr>\n",
       "    <tr>\n",
       "      <th>2</th>\n",
       "      <td>5</td>\n",
       "      <td>NaN</td>\n",
       "      <td>False</td>\n",
       "      <td>10 10, 2013</td>\n",
       "      <td>A3SOFHUR27FO3K</td>\n",
       "      <td>1118461304</td>\n",
       "      <td>{'Format:': ' Hardcover'}</td>\n",
       "      <td>Harry Gilbert Miller III</td>\n",
       "      <td>Alan Gregerman believes that innovation comes ...</td>\n",
       "      <td>The World from Different Perspectives</td>\n",
       "      <td>1381363200</td>\n",
       "      <td>NaN</td>\n",
       "    </tr>\n",
       "    <tr>\n",
       "      <th>3</th>\n",
       "      <td>5</td>\n",
       "      <td>NaN</td>\n",
       "      <td>False</td>\n",
       "      <td>10 9, 2013</td>\n",
       "      <td>A1HOG1PYCAE157</td>\n",
       "      <td>1118461304</td>\n",
       "      <td>{'Format:': ' Hardcover'}</td>\n",
       "      <td>Rebecca Ripley</td>\n",
       "      <td>Alan Gregerman is a smart, funny, entertaining...</td>\n",
       "      <td>Strangers are Your New Best Friends</td>\n",
       "      <td>1381276800</td>\n",
       "      <td>NaN</td>\n",
       "    </tr>\n",
       "    <tr>\n",
       "      <th>4</th>\n",
       "      <td>5</td>\n",
       "      <td>10</td>\n",
       "      <td>False</td>\n",
       "      <td>09 7, 2013</td>\n",
       "      <td>A26JGAM6GZMM4V</td>\n",
       "      <td>1118461304</td>\n",
       "      <td>{'Format:': ' Hardcover'}</td>\n",
       "      <td>Robert Morris</td>\n",
       "      <td>As I began to read this book, I was again remi...</td>\n",
       "      <td>How and why it is imperative to engage, learn ...</td>\n",
       "      <td>1378512000</td>\n",
       "      <td>NaN</td>\n",
       "    </tr>\n",
       "  </tbody>\n",
       "</table>\n",
       "</div>"
      ],
      "text/plain": [
       "   overall vote  verified   reviewTime      reviewerID        asin  \\\n",
       "0        5    2     False  11 27, 2013  A3NHUQ33CFH3VM  1118461304   \n",
       "1        5  NaN     False   11 1, 2013  A3SK6VNBQDNBJE  1118461304   \n",
       "2        5  NaN     False  10 10, 2013  A3SOFHUR27FO3K  1118461304   \n",
       "3        5  NaN     False   10 9, 2013  A1HOG1PYCAE157  1118461304   \n",
       "4        5   10     False   09 7, 2013  A26JGAM6GZMM4V  1118461304   \n",
       "\n",
       "                            style              reviewerName  \\\n",
       "0       {'Format:': ' Hardcover'}                    Greeny   \n",
       "1  {'Format:': ' Kindle Edition'}           Leif C. Ulstrup   \n",
       "2       {'Format:': ' Hardcover'}  Harry Gilbert Miller III   \n",
       "3       {'Format:': ' Hardcover'}            Rebecca Ripley   \n",
       "4       {'Format:': ' Hardcover'}             Robert Morris   \n",
       "\n",
       "                                          reviewText  \\\n",
       "0  Not one thing in this book seemed an obvious o...   \n",
       "1  I have enjoyed Dr. Alan Gregerman's weekly blo...   \n",
       "2  Alan Gregerman believes that innovation comes ...   \n",
       "3  Alan Gregerman is a smart, funny, entertaining...   \n",
       "4  As I began to read this book, I was again remi...   \n",
       "\n",
       "                                             summary  unixReviewTime image  \n",
       "0                  Clear on what leads to innovation      1385510400   NaN  \n",
       "1  Becoming more innovative by opening yourself t...      1383264000   NaN  \n",
       "2              The World from Different Perspectives      1381363200   NaN  \n",
       "3                Strangers are Your New Best Friends      1381276800   NaN  \n",
       "4  How and why it is imperative to engage, learn ...      1378512000   NaN  "
      ]
     },
     "execution_count": 2,
     "metadata": {},
     "output_type": "execute_result"
    }
   ],
   "source": [
    "import json\n",
    "\n",
    "#Explore the structure of the dataset\n",
    "with open('Appliances.json') as f:\n",
    "    appliance_data = pd.read_json(f, lines=True)\n",
    "    \n",
    "appliance_data.head()"
   ]
  },
  {
   "cell_type": "markdown",
   "id": "e7f717d9",
   "metadata": {},
   "source": [
    "The dataset contains a lot of information, but for this project I am only interested in the ratings and reviews. Instead of working with the entire dataset, I will create another dataset containing just the ratings and reviews. "
   ]
  },
  {
   "cell_type": "code",
   "execution_count": 3,
   "id": "028dd2be",
   "metadata": {},
   "outputs": [
    {
     "data": {
      "text/html": [
       "<div>\n",
       "<style scoped>\n",
       "    .dataframe tbody tr th:only-of-type {\n",
       "        vertical-align: middle;\n",
       "    }\n",
       "\n",
       "    .dataframe tbody tr th {\n",
       "        vertical-align: top;\n",
       "    }\n",
       "\n",
       "    .dataframe thead th {\n",
       "        text-align: right;\n",
       "    }\n",
       "</style>\n",
       "<table border=\"1\" class=\"dataframe\">\n",
       "  <thead>\n",
       "    <tr style=\"text-align: right;\">\n",
       "      <th></th>\n",
       "      <th>overall</th>\n",
       "      <th>reviewText</th>\n",
       "    </tr>\n",
       "  </thead>\n",
       "  <tbody>\n",
       "    <tr>\n",
       "      <th>0</th>\n",
       "      <td>5</td>\n",
       "      <td>Not one thing in this book seemed an obvious o...</td>\n",
       "    </tr>\n",
       "    <tr>\n",
       "      <th>1</th>\n",
       "      <td>5</td>\n",
       "      <td>I have enjoyed Dr. Alan Gregerman's weekly blo...</td>\n",
       "    </tr>\n",
       "    <tr>\n",
       "      <th>2</th>\n",
       "      <td>5</td>\n",
       "      <td>Alan Gregerman believes that innovation comes ...</td>\n",
       "    </tr>\n",
       "    <tr>\n",
       "      <th>3</th>\n",
       "      <td>5</td>\n",
       "      <td>Alan Gregerman is a smart, funny, entertaining...</td>\n",
       "    </tr>\n",
       "    <tr>\n",
       "      <th>4</th>\n",
       "      <td>5</td>\n",
       "      <td>As I began to read this book, I was again remi...</td>\n",
       "    </tr>\n",
       "  </tbody>\n",
       "</table>\n",
       "</div>"
      ],
      "text/plain": [
       "   overall                                         reviewText\n",
       "0        5  Not one thing in this book seemed an obvious o...\n",
       "1        5  I have enjoyed Dr. Alan Gregerman's weekly blo...\n",
       "2        5  Alan Gregerman believes that innovation comes ...\n",
       "3        5  Alan Gregerman is a smart, funny, entertaining...\n",
       "4        5  As I began to read this book, I was again remi..."
      ]
     },
     "execution_count": 3,
     "metadata": {},
     "output_type": "execute_result"
    }
   ],
   "source": [
    "#Create a dataframe with just the rating and reviews.\n",
    "select_data = appliance_data[['overall', 'reviewText']].copy()\n",
    "select_data.head()"
   ]
  },
  {
   "cell_type": "markdown",
   "id": "96f59a59",
   "metadata": {},
   "source": [
    "Now that I have the dataset I want, I will preprocess the data before using it in my model. "
   ]
  },
  {
   "cell_type": "code",
   "execution_count": 4,
   "id": "d92d7c63",
   "metadata": {},
   "outputs": [
    {
     "data": {
      "text/html": [
       "<div>\n",
       "<style scoped>\n",
       "    .dataframe tbody tr th:only-of-type {\n",
       "        vertical-align: middle;\n",
       "    }\n",
       "\n",
       "    .dataframe tbody tr th {\n",
       "        vertical-align: top;\n",
       "    }\n",
       "\n",
       "    .dataframe thead th {\n",
       "        text-align: right;\n",
       "    }\n",
       "</style>\n",
       "<table border=\"1\" class=\"dataframe\">\n",
       "  <thead>\n",
       "    <tr style=\"text-align: right;\">\n",
       "      <th></th>\n",
       "      <th>rating</th>\n",
       "      <th>review</th>\n",
       "    </tr>\n",
       "  </thead>\n",
       "  <tbody>\n",
       "    <tr>\n",
       "      <th>0</th>\n",
       "      <td>5</td>\n",
       "      <td>Not one thing in this book seemed an obvious o...</td>\n",
       "    </tr>\n",
       "    <tr>\n",
       "      <th>1</th>\n",
       "      <td>5</td>\n",
       "      <td>I have enjoyed Dr. Alan Gregerman's weekly blo...</td>\n",
       "    </tr>\n",
       "    <tr>\n",
       "      <th>2</th>\n",
       "      <td>5</td>\n",
       "      <td>Alan Gregerman believes that innovation comes ...</td>\n",
       "    </tr>\n",
       "    <tr>\n",
       "      <th>3</th>\n",
       "      <td>5</td>\n",
       "      <td>Alan Gregerman is a smart, funny, entertaining...</td>\n",
       "    </tr>\n",
       "    <tr>\n",
       "      <th>4</th>\n",
       "      <td>5</td>\n",
       "      <td>As I began to read this book, I was again remi...</td>\n",
       "    </tr>\n",
       "  </tbody>\n",
       "</table>\n",
       "</div>"
      ],
      "text/plain": [
       "   rating                                             review\n",
       "0       5  Not one thing in this book seemed an obvious o...\n",
       "1       5  I have enjoyed Dr. Alan Gregerman's weekly blo...\n",
       "2       5  Alan Gregerman believes that innovation comes ...\n",
       "3       5  Alan Gregerman is a smart, funny, entertaining...\n",
       "4       5  As I began to read this book, I was again remi..."
      ]
     },
     "execution_count": 4,
     "metadata": {},
     "output_type": "execute_result"
    }
   ],
   "source": [
    "#Rename the columns.\n",
    "select_data.rename(columns={'overall': 'rating', 'reviewText': 'review'}, inplace=True)\n",
    "select_data.head()"
   ]
  },
  {
   "cell_type": "code",
   "execution_count": 5,
   "id": "9e41ee12",
   "metadata": {},
   "outputs": [
    {
     "data": {
      "text/plain": [
       "rating     int64\n",
       "review    object\n",
       "dtype: object"
      ]
     },
     "execution_count": 5,
     "metadata": {},
     "output_type": "execute_result"
    }
   ],
   "source": [
    "#View the data type of the columns.\n",
    "select_data.dtypes"
   ]
  },
  {
   "cell_type": "code",
   "execution_count": 6,
   "id": "c6a57f7a",
   "metadata": {},
   "outputs": [
    {
     "data": {
      "text/plain": [
       "rating             int64\n",
       "review    string[python]\n",
       "dtype: object"
      ]
     },
     "execution_count": 6,
     "metadata": {},
     "output_type": "execute_result"
    }
   ],
   "source": [
    "#Change the data type of review column to string. \n",
    "select_data['review'] = select_data['review'].astype('string')\n",
    "select_data.dtypes"
   ]
  },
  {
   "cell_type": "code",
   "execution_count": 7,
   "id": "632fbcd7",
   "metadata": {},
   "outputs": [
    {
     "data": {
      "text/plain": [
       "rating      0\n",
       "review    324\n",
       "dtype: int64"
      ]
     },
     "execution_count": 7,
     "metadata": {},
     "output_type": "execute_result"
    }
   ],
   "source": [
    "#Check for any missing values.\n",
    "select_data.isna().sum()"
   ]
  },
  {
   "cell_type": "code",
   "execution_count": 8,
   "id": "2e7df504",
   "metadata": {},
   "outputs": [
    {
     "data": {
      "text/plain": [
       "rating    0\n",
       "review    0\n",
       "dtype: int64"
      ]
     },
     "execution_count": 8,
     "metadata": {},
     "output_type": "execute_result"
    }
   ],
   "source": [
    "#Remove rows with missing values. \n",
    "select_data = select_data.dropna()\n",
    "\n",
    "#Check to make sure the missing data was removed. \n",
    "select_data.isna().sum()"
   ]
  },
  {
   "cell_type": "markdown",
   "id": "be226369",
   "metadata": {},
   "source": [
    "Currently, the values in the ratings column range from 1-5. For efficiency, I will set positive reviews to have a value of 1 and negative reviews a value of 0. Ratings that have a value of 1 or 2 will be categorized as a negative review. Similarly, ratings that have a value of 3, 4, or 5 will be categorized as a positive review."
   ]
  },
  {
   "cell_type": "code",
   "execution_count": 9,
   "id": "9a2a62e8",
   "metadata": {},
   "outputs": [],
   "source": [
    "#Replace ratings with 0(neg) or 1(pos).\n",
    "select_data['rating'] = select_data['rating'].replace([1, 2], 0)\n",
    "select_data['rating'] = select_data['rating'].replace([3, 4, 5], 1)"
   ]
  },
  {
   "cell_type": "code",
   "execution_count": 10,
   "id": "429ff805",
   "metadata": {},
   "outputs": [
    {
     "name": "stdout",
     "output_type": "stream",
     "text": [
      "    rating                                             review\n",
      "50       1            Exactly what I needed and priced right!\n",
      "51       1  Very well made, Sturdy. It performs as adverti...\n",
      "52       1                       did what it was intended for\n",
      "53       1  I bought this cord as the power cord for the C...\n",
      "54       1  easy to install.  just what I needed for my ne...\n",
      "55       1  Used for my Bosch EV car charger so it is not ...\n",
      "56       1  Due to the nature of this item there is really...\n",
      "57       1  Worked perfect and was cheaper than the same t...\n",
      "58       1  This allows you to switch from venting your dr...\n",
      "59       1  The bands are quite useless.\n",
      "The mesh is not f...\n",
      "60       1  This was just what I was looking for. The serv...\n",
      "61       1                                       Works great!\n",
      "62       1  It is a good .put the heat in my house when ne...\n",
      "63       1                            It was what I expected.\n",
      "64       1                                        as expected\n",
      "65       1  This works exactly as expected. Installation w...\n",
      "66       1  This item does what it's intended for, and doe...\n",
      "67       1  I really like the removable lint screen that c...\n",
      "68       1         Let's a lot of moisture in the air for us.\n",
      "69       1  I considered this a starting point. I assumed ...\n",
      "70       1  Re routs the heat from the dryer to the house,...\n",
      "71       1            ITS WHAT I WANTED BUT NOT INSTALLED YET\n",
      "72       1              Hook up was easy and works just fine.\n",
      "73       1                              Just what was needed.\n",
      "74       0  Very cheaply made! To make this thing work pro...\n",
      "75       1  Its definitely smaller then the picture makes ...\n",
      "76       1  This has been going strong for a few winters n...\n",
      "77       1  Great for basement washroom. It does leak air ...\n",
      "78       1                                              WORKS\n",
      "79       1                                        Works great\n",
      "80       0  Not wow-ing me.  The product is flimsy, with g...\n",
      "81       0  First I'll say that I am very happy these boxe...\n",
      "82       1  This is very handy at adding a little heat tha...\n",
      "83       1  I live in an older home with an very cold base...\n",
      "84       1  Appears to be what I need. Have not installed ...\n",
      "85       1  Utility cost cutter.  Use to help heat home he...\n",
      "86       1  Easy to hook up, I am a woman that likes to sa...\n",
      "87       0  not worth the bother.  there was dust all over...\n",
      "88       1  What a great simple, little product. I live in...\n",
      "89       1  Has good bypass to outside if screen is blocke...\n",
      "90       1  This is great for winter. Run your cloths drie...\n",
      "91       1  Works ok there is a rubber flap in the middle ...\n",
      "92       1          It works but the filter is way too small.\n",
      "93       1   Great device, boy did it do the job!  Thank you.\n",
      "94       1                    over flow hole not shown in ads\n",
      "95       1                                        works well.\n",
      "96       1  This will work for what I need but I would hav...\n",
      "97       0                                     Piece of junk.\n",
      "98       1                 Item is great and easy to install.\n",
      "99       1  This is a very cool and creative item to have ...\n"
     ]
    }
   ],
   "source": [
    "#Looking at a sample of the data to make sure it contains 0 or 1.\n",
    "print(select_data[50:100])"
   ]
  },
  {
   "cell_type": "code",
   "execution_count": 11,
   "id": "67533726",
   "metadata": {},
   "outputs": [
    {
     "name": "stdout",
     "output_type": "stream",
     "text": [
      "Not one thing in this book seemed an obvious original thought. However, the clarity with which this author explains how innovation happens is remarkable.\n",
      "\n",
      "Alan Gregerman discusses the meaning of human interactions and the kinds of situations that tend to inspire original and/or clear thinking that leads to innovation. These things include how people communicate in certain situations such as when they are outside of their normal patterns.\n",
      "\n",
      "Gregerman identifies the ingredients that make innovation more likely. This includes people being compelled to interact when they normally wouldn't, leading to serendipity. Sometimes the phenomenon will occur through collaboration, and sometimes by chance such as when an individual is away from home on travel.\n",
      "\n",
      "I recommend this book for its common sense, its truth and the apparent mastery of the subject by the author.\n"
     ]
    }
   ],
   "source": [
    "#Taking a look at one of the reviews.\n",
    "print(select_data['review'][0])"
   ]
  },
  {
   "cell_type": "code",
   "execution_count": 12,
   "id": "bf870afd",
   "metadata": {},
   "outputs": [],
   "source": [
    "#Remove new lines and extra spacing.\n",
    "import re\n",
    "\n",
    "select_data['review'] = select_data['review'].replace(r'\\n', ' ', regex=True)"
   ]
  },
  {
   "cell_type": "code",
   "execution_count": 13,
   "id": "53284bc5",
   "metadata": {},
   "outputs": [
    {
     "name": "stdout",
     "output_type": "stream",
     "text": [
      "Not one thing in this book seemed an obvious original thought. However, the clarity with which this author explains how innovation happens is remarkable.  Alan Gregerman discusses the meaning of human interactions and the kinds of situations that tend to inspire original and/or clear thinking that leads to innovation. These things include how people communicate in certain situations such as when they are outside of their normal patterns.  Gregerman identifies the ingredients that make innovation more likely. This includes people being compelled to interact when they normally wouldn't, leading to serendipity. Sometimes the phenomenon will occur through collaboration, and sometimes by chance such as when an individual is away from home on travel.  I recommend this book for its common sense, its truth and the apparent mastery of the subject by the author.\n"
     ]
    }
   ],
   "source": [
    "print(select_data['review'][0])"
   ]
  },
  {
   "cell_type": "markdown",
   "id": "a36b2da5",
   "metadata": {},
   "source": [
    "### Splitting the Data into Training and Testing Sets\n",
    "The dataset will be split using scikit-learn's train_test_split function. I will allocate 70% to the training set and 30% to the test set. In order to keep the same randomized numbers each time, I used the random_state parameter."
   ]
  },
  {
   "cell_type": "code",
   "execution_count": 14,
   "id": "334c5a03",
   "metadata": {},
   "outputs": [
    {
     "name": "stdout",
     "output_type": "stream",
     "text": [
      "Total set: 602453\n",
      "train_ratings.shape (421717,) train_reviews.shape (421717,)\n",
      "test_ratings.shape (180736,) test_reviews.shape (180736,)\n"
     ]
    }
   ],
   "source": [
    "#Find the number of rows in the dataframe.\n",
    "print(f\"Total set: {select_data.shape[0]}\")\n",
    "\n",
    "#Split the data.\n",
    "from sklearn.model_selection import train_test_split\n",
    "train_ratings, test_ratings, train_reviews, test_reviews = train_test_split(select_data['rating'], select_data['review'], train_size=0.7, random_state=42)\n",
    "\n",
    "#Viewing the shape of the data.\n",
    "print(\"train_ratings.shape\", train_ratings.shape, \"train_reviews.shape\", train_reviews.shape)\n",
    "print(\"test_ratings.shape\", test_ratings.shape, \"test_reviews.shape\", test_reviews.shape)"
   ]
  },
  {
   "cell_type": "markdown",
   "id": "ed6fa3e6",
   "metadata": {},
   "source": [
    "### Setting up the Tokenizer with Padding"
   ]
  },
  {
   "cell_type": "code",
   "execution_count": 15,
   "id": "4783ca37",
   "metadata": {},
   "outputs": [],
   "source": [
    "#Define the parameters for the tokenizing and padding.\n",
    "vocab_size = 10000\n",
    "embedding_dim = 32\n",
    "max_length = 100\n",
    "padding_type = 'post'\n",
    "trunc_type = 'post'\n",
    "oov_tok = '<OOV>'"
   ]
  },
  {
   "cell_type": "code",
   "execution_count": 16,
   "id": "3fe8502f",
   "metadata": {},
   "outputs": [],
   "source": [
    "#Initialize the tokenizer.\n",
    "tokenizer = Tokenizer(num_words=vocab_size, oov_token=oov_tok)\n",
    "tokenizer.fit_on_texts(train_reviews)\n",
    "\n",
    "#Create word index to store words from the reviews.\n",
    "word_index = tokenizer.word_index\n",
    "\n",
    "#Train sequences and ratings.\n",
    "train_seqs = tokenizer.texts_to_sequences(train_reviews)\n",
    "train_padded = pad_sequences(train_seqs, maxlen=max_length, truncating=trunc_type)\n",
    "\n",
    "#Test sequences and ratings. \n",
    "test_seqs = tokenizer.texts_to_sequences(test_reviews)\n",
    "test_padded = pad_sequences(test_seqs, maxlen=max_length, truncating=trunc_type)"
   ]
  },
  {
   "cell_type": "markdown",
   "id": "8bebb6b8",
   "metadata": {},
   "source": [
    "### Creating the Model"
   ]
  },
  {
   "cell_type": "code",
   "execution_count": 17,
   "id": "64f2f73e",
   "metadata": {},
   "outputs": [],
   "source": [
    "#Defining the model.\n",
    "model = tf.keras.Sequential([\n",
    "    tf.keras.layers.Embedding(vocab_size, embedding_dim, input_length=max_length),\n",
    "    tf.keras.layers.Bidirectional(tf.keras.layers.LSTM(128, return_sequences=True)),\n",
    "    tf.keras.layers.Bidirectional(tf.keras.layers.LSTM(64)),\n",
    "    tf.keras.layers.Dense(32, activation='relu'),\n",
    "    tf.keras.layers.Dense(1, activation='sigmoid')\n",
    "])\n",
    "model.compile(loss='binary_crossentropy', optimizer='adam', metrics=['accuracy'])"
   ]
  },
  {
   "cell_type": "code",
   "execution_count": 18,
   "id": "334a779a",
   "metadata": {},
   "outputs": [
    {
     "name": "stdout",
     "output_type": "stream",
     "text": [
      "Model: \"sequential\"\n",
      "_________________________________________________________________\n",
      " Layer (type)                Output Shape              Param #   \n",
      "=================================================================\n",
      " embedding (Embedding)       (None, 100, 32)           320000    \n",
      "                                                                 \n",
      " bidirectional (Bidirection  (None, 100, 256)          164864    \n",
      " al)                                                             \n",
      "                                                                 \n",
      " bidirectional_1 (Bidirecti  (None, 128)               164352    \n",
      " onal)                                                           \n",
      "                                                                 \n",
      " dense (Dense)               (None, 32)                4128      \n",
      "                                                                 \n",
      " dense_1 (Dense)             (None, 1)                 33        \n",
      "                                                                 \n",
      "=================================================================\n",
      "Total params: 653377 (2.49 MB)\n",
      "Trainable params: 653377 (2.49 MB)\n",
      "Non-trainable params: 0 (0.00 Byte)\n",
      "_________________________________________________________________\n"
     ]
    }
   ],
   "source": [
    "model.summary()"
   ]
  },
  {
   "cell_type": "code",
   "execution_count": 19,
   "id": "268036e1",
   "metadata": {},
   "outputs": [
    {
     "name": "stdout",
     "output_type": "stream",
     "text": [
      "Epoch 1/10\n",
      "13179/13179 [==============================] - 1307s 99ms/step - loss: 0.1604 - accuracy: 0.9342 - val_loss: 0.1324 - val_accuracy: 0.9461\n",
      "Epoch 2/10\n",
      "13179/13179 [==============================] - 1163s 88ms/step - loss: 0.1211 - accuracy: 0.9518 - val_loss: 0.1226 - val_accuracy: 0.9509\n",
      "Epoch 3/10\n",
      "13179/13179 [==============================] - 1253s 95ms/step - loss: 0.1072 - accuracy: 0.9582 - val_loss: 0.1194 - val_accuracy: 0.9526\n",
      "Epoch 4/10\n",
      "13179/13179 [==============================] - 1624s 123ms/step - loss: 0.0962 - accuracy: 0.9628 - val_loss: 0.1216 - val_accuracy: 0.9519\n",
      "Epoch 5/10\n",
      "13179/13179 [==============================] - 1401s 106ms/step - loss: 0.0858 - accuracy: 0.9672 - val_loss: 0.1261 - val_accuracy: 0.9504\n",
      "Epoch 6/10\n",
      "13179/13179 [==============================] - 1393s 106ms/step - loss: 0.0752 - accuracy: 0.9718 - val_loss: 0.1370 - val_accuracy: 0.9502\n",
      "Epoch 7/10\n",
      "13179/13179 [==============================] - 1506s 114ms/step - loss: 0.0649 - accuracy: 0.9763 - val_loss: 0.1476 - val_accuracy: 0.9495\n",
      "Epoch 8/10\n",
      "13179/13179 [==============================] - 1367s 104ms/step - loss: 0.0557 - accuracy: 0.9801 - val_loss: 0.1633 - val_accuracy: 0.9475\n",
      "Epoch 9/10\n",
      "13179/13179 [==============================] - 1298s 98ms/step - loss: 0.0478 - accuracy: 0.9835 - val_loss: 0.1755 - val_accuracy: 0.9478\n",
      "Epoch 10/10\n",
      "13179/13179 [==============================] - 1288s 98ms/step - loss: 0.0414 - accuracy: 0.9856 - val_loss: 0.1909 - val_accuracy: 0.9466\n"
     ]
    }
   ],
   "source": [
    "num_epochs = 10\n",
    "history = model.fit(\n",
    "    train_padded,\n",
    "    train_ratings,\n",
    "    epochs=num_epochs,\n",
    "    validation_data=(test_padded, test_ratings)\n",
    ")"
   ]
  },
  {
   "cell_type": "markdown",
   "id": "3936746b",
   "metadata": {},
   "source": [
    "### Visualizing the Results"
   ]
  },
  {
   "cell_type": "code",
   "execution_count": 22,
   "id": "132417bd",
   "metadata": {},
   "outputs": [
    {
     "data": {
      "image/png": "[encoded data removed]",
      "text/plain": [
       "<Figure size 640x480 with 1 Axes>"
      ]
     },
     "metadata": {},
     "output_type": "display_data"
    },
    {
     "data": {
      "image/png": "[encoded data removed]",
      "text/plain": [
       "<Figure size 640x480 with 1 Axes>"
      ]
     },
     "metadata": {},
     "output_type": "display_data"
    }
   ],
   "source": [
    "#Plotting the results of the model. \n",
    "import matplotlib.pyplot as plt\n",
    "\n",
    "def plot_metrics(history, metric):\n",
    "  plt.plot(history.history[metric])\n",
    "  plt.plot(history.history['val_'+metric])\n",
    "  plt.xlabel(\"epochs\")\n",
    "  plt.ylabel(metric)\n",
    "  plt.legend([metric, 'val_'+metric])\n",
    "  plt.show()\n",
    "  \n",
    "plot_metrics(history, \"accuracy\")\n",
    "plot_metrics(history, \"loss\")"
   ]
  },
  {
   "cell_type": "markdown",
   "id": "0d9e4d4a",
   "metadata": {},
   "source": [
    "### Classifying New Reviews"
   ]
  },
  {
   "cell_type": "code",
   "execution_count": 24,
   "id": "da14846d",
   "metadata": {},
   "outputs": [
    {
     "name": "stdout",
     "output_type": "stream",
     "text": [
      "1/1 [==============================] - 1s 787ms/step\n",
      "[[8.6332357e-04]\n",
      " [9.9926054e-01]]\n"
     ]
    }
   ],
   "source": [
    "new_reviews = [\"this product does not work, a waste of money\", \"awesome product, quick to setup\"]\n",
    "new_seqs = tokenizer.texts_to_sequences(new_reviews)\n",
    "padded_seqs = pad_sequences(new_seqs, maxlen=max_length, padding=padding_type, truncating=trunc_type)\n",
    "print(model.predict(padded_seqs))"
   ]
  },
  {
   "cell_type": "markdown",
   "id": "86794e6f",
   "metadata": {},
   "source": [
    "The results are fairly accurate. The model predicted the correct classification, however, both of the results are pretty close to 0. It appears that the result for the negative review is closer to the true value of 0 compared to the positive review. Based on the plots above, the accuracy of the model increases, but when introduced to the test set the accuracy slowly decreases. Improvements can be made to the model as well as tuning the parameters of the tokenizer. "
   ]
  }
 ],
 "metadata": {
  "kernelspec": {
   "display_name": "Python 3 (ipykernel)",
   "language": "python",
   "name": "python3"
  },
  "language_info": {
   "codemirror_mode": {
    "name": "ipython",
    "version": 3
   },
   "file_extension": ".py",
   "mimetype": "text/x-python",
   "name": "python",
   "nbconvert_exporter": "python",
   "pygments_lexer": "ipython3",
   "version": "3.11.4"
  }
 },
 "nbformat": 4,
 "nbformat_minor": 5
}
